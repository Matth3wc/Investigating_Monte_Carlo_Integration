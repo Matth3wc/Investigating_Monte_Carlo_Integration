{
 "cells": [
  {
   "cell_type": "markdown",
   "metadata": {},
   "source": [
    "Hyrbid Importance Sampling with Markov Chains For Monte Crlo Integration"
   ]
  },
  {
   "cell_type": "code",
   "execution_count": 144,
   "metadata": {},
   "outputs": [],
   "source": [
    "\n",
    "#==============================Dependencies================================\n",
    "\n",
    "#libraries\n",
    "import matplotlib.pyplot as plt\n",
    "import numpy as np\n",
    "from scipy.stats import norm, truncnorm\n",
    "from numpy.random import Generator, MT19937\n",
    "import time\n",
    "from scipy.special import logsumexp\n",
    "\n",
    "#Initializing the random number generator\n",
    "seed = int(time.time()) \n",
    "bitgen = MT19937(seed)\n",
    "rng = Generator(bitgen)  # reproducible generator"
   ]
  },
  {
   "cell_type": "code",
   "execution_count": 145,
   "metadata": {},
   "outputs": [],
   "source": [
    "# Gaussian proposal\n",
    "def gaussian_proposal(x, step_size):\n",
    "    return x + step_size * np.random.normal()\n",
    "\n",
    "# Cauchy distribution: p(x) = 1 / (π * (1 + x^2))\n",
    "def cauchy_distribution(x, step_size):\n",
    "    return (step_size) * 1 / (pi * (1 + x**2))\n",
    "\n",
    "# Uniform sampling proposal\n",
    "def uniform_proposal(x, step_size):\n",
    "    return x + step_size * rng.uniform(-1, 1)"
   ]
  },
  {
   "cell_type": "code",
   "execution_count": 146,
   "metadata": {},
   "outputs": [],
   "source": [
    "#=======================Metropolis-Hastings Algorithm (Python)========================\n",
    "def metropolis_python(f, N, x0, step_size, burnin, thinning, rng=None):\n",
    "    if rng is None:\n",
    "        rng = np.random.default_rng()\n",
    "\n",
    "    total_steps = N * thinning + burnin\n",
    "    samples = []\n",
    "    x = x0\n",
    "    count = 0\n",
    "\n",
    "    for i in range(total_steps):\n",
    "        x_cand = gaussian_proposal(x, step_size)\n",
    "        alpha = min(1.0, f(x_cand) / f(x))\n",
    "        if rng.uniform() < alpha:\n",
    "            x = x_cand\n",
    "            count += 1\n",
    "        if i >= burnin and (i - burnin) % thinning == 0:\n",
    "            samples.append(x)\n",
    "    acceptance_rate = count / total_steps\n",
    "    \n",
    "    print(f\"Acceptance rate: {acceptance_rate:.2f}\")\n",
    "    return np.array(samples)"
   ]
  },
  {
   "cell_type": "code",
   "execution_count": 147,
   "metadata": {},
   "outputs": [
    {
     "name": "stdout",
     "output_type": "stream",
     "text": [
      "Defaulting to user installation because normal site-packages is not writeable\n",
      "Requirement already satisfied: cython in /Users/mattthew/Library/Python/3.9/lib/python/site-packages (3.1.1)\n",
      "\n",
      "\u001b[1m[\u001b[0m\u001b[34;49mnotice\u001b[0m\u001b[1;39;49m]\u001b[0m\u001b[39;49m A new release of pip is available: \u001b[0m\u001b[31;49m25.0\u001b[0m\u001b[39;49m -> \u001b[0m\u001b[32;49m25.1.1\u001b[0m\n",
      "\u001b[1m[\u001b[0m\u001b[34;49mnotice\u001b[0m\u001b[1;39;49m]\u001b[0m\u001b[39;49m To update, run: \u001b[0m\u001b[32;49m/Library/Developer/CommandLineTools/usr/bin/python3 -m pip install --upgrade pip\u001b[0m\n",
      "The Cython extension is already loaded. To reload it, use:\n",
      "  %reload_ext Cython\n"
     ]
    }
   ],
   "source": [
    "#Importing Cython for performance optimization\n",
    "!/Library/Developer/CommandLineTools/usr/bin/python3 -m pip install cython\n",
    "\n",
    "%load_ext Cython"
   ]
  },
  {
   "cell_type": "code",
   "execution_count": 148,
   "metadata": {},
   "outputs": [],
   "source": [
    "%%cython\n",
    "#=======================Metropolis-Hastings Algorithm (Cython)========================\n",
    "\n",
    "import numpy as np\n",
    "cimport numpy as np\n",
    "from libc.stdlib cimport rand, RAND_MAX\n",
    "from libc.math cimport fmin\n",
    "cimport cython\n",
    "\n",
    "@cython.boundscheck(False)\n",
    "@cython.wraparound(False)\n",
    "\n",
    "def metropolis_cython(int N, double x0, double step_size, int burnin, int thinning):\n",
    "    cdef int total_steps = N * thinning + burnin\n",
    "    cdef np.ndarray[np.double_t, ndim=1] samples = np.empty(N, dtype=np.double)\n",
    "    cdef double x = x0\n",
    "    cdef int i, count = 0\n",
    "    cdef double x_cand, alpha, u\n",
    "\n",
    "    for i in range(total_steps):\n",
    "        x_cand = x + step_size * np.random.normal()\n",
    "        alpha = fmin(1.0, (1.0 / (1.0 + x_cand * x_cand)) / (1.0 / (1.0 + x * x)))\n",
    "        u = rand() / <double>RAND_MAX\n",
    "        if u < alpha:\n",
    "            x = x_cand\n",
    "        if i >= burnin and (i - burnin) % thinning == 0:\n",
    "            samples[count] = x\n",
    "            count += 1\n",
    "    samples.sort()\n",
    "    return samples"
   ]
  },
  {
   "cell_type": "code",
   "execution_count": 149,
   "metadata": {},
   "outputs": [
    {
     "name": "stdout",
     "output_type": "stream",
     "text": [
      "Acceptance rate: 0.44\n",
      "Metropolis-Hastings Python implementation loaded. [-0.82387783  0.20407805 -0.10251967 ... -0.6469253  -0.6469253\n",
      " -0.6469253 ]\n"
     ]
    }
   ],
   "source": [
    "def f(x):\n",
    "    return 1 / (1 + x**2)  # Cauchy distribution\n",
    "\n",
    "print(\"Metropolis-Hastings Python implementation loaded.\", metropolis_python(f, 10000, rng.uniform(-1, 1), 4, 200, 1))"
   ]
  },
  {
   "cell_type": "markdown",
   "metadata": {},
   "source": [
    "The function average chain maker needs work, but its goal to to averae many different markov chains in the aim of lower the variane of the KDe pdf"
   ]
  },
  {
   "cell_type": "code",
   "execution_count": 150,
   "metadata": {},
   "outputs": [],
   "source": [
    "#=======================Kernel Density Estimation (KDE) Functions========================\n",
    "\n",
    "# Fixed-bandwidth KDE\n",
    "def pilot_kde(samples, bandwidth): #fixed KDE mthod\n",
    "    \"\"\"Fixed-bandwidth KDE using Gaussian kernel.\"\"\"\n",
    "    def kde_eval(x_eval):\n",
    "        x_eval = np.atleast_1d(x_eval)\n",
    "        n = len(samples)\n",
    "        coeff = 1 / (n * bandwidth * np.sqrt(2 * np.pi))\n",
    "        diffs = (x_eval[:, None] - samples[None, :]) / bandwidth\n",
    "        return coeff * np.sum(np.exp(-0.5 * diffs**2), axis=1)\n",
    "    return kde_eval\n",
    "\n",
    "def silverman_bandwidth(samples):\n",
    "    n = len(samples)\n",
    "    std = np.std(samples, ddof=1)\n",
    "    return 1.06 * std * n ** (-1/5)\n",
    "\n",
    "# Adaptive-bandwidth KDE\n",
    "def adaptive_kde(samples, h_fixed, alpha=0.5): # Adative KDE method\n",
    "    \"\"\"\n",
    "    Adaptive KDE using Abramson's square-root law.\n",
    "    samples : 1D array of data points\n",
    "    h_fixed : base bandwidth for pilot KDE\n",
    "    alpha   : sensitivity parameter (default 0.5)\n",
    "    \"\"\"\n",
    "    n = len(samples)\n",
    "\n",
    "    # Step 1: pilot density estimate\n",
    "    pilot = pilot_kde(samples, h_fixed)\n",
    "    f_i = pilot(samples)\n",
    "\n",
    "    # Step 2: compute geometric mean of pilot estimates\n",
    "    g = np.exp(np.mean(np.log(f_i)))\n",
    "\n",
    "    # Step 3: compute local bandwidth factors\n",
    "    lambda_i = (f_i / g)**(-alpha)\n",
    "    h_i = h_fixed * lambda_i\n",
    "\n",
    "    # Step 4: adaptive KDE function\n",
    "    def kde_adaptive(x_eval):\n",
    "        x_eval = np.atleast_1d(x_eval)\n",
    "        coeffs = 1 / (np.sqrt(2 * np.pi) * h_i)\n",
    "        diffs = (x_eval[:, None] - samples[None, :]) / h_i\n",
    "        result = np.sum(coeffs * np.exp(-0.5 * diffs**2), axis=1) / n\n",
    "        return result\n",
    "\n",
    "    return kde_adaptive"
   ]
  },
  {
   "cell_type": "code",
   "execution_count": 151,
   "metadata": {},
   "outputs": [],
   "source": [
    "def hybrid_importance_sampling(f, m_chain, kde_pdf):\n",
    "    \"\"\"\n",
    "    Estimate the integral of f using importance sampling from KDE-estimated proposal.\n",
    "\n",
    "    Returns:\n",
    "        estimate: Monte Carlo estimate of the integral\n",
    "        stderr: Standard error of the estimate (not just std of weights)\n",
    "    \"\"\"\n",
    "    weights = f(m_chain) / kde_pdf(m_chain)\n",
    "    estimate = np.mean(weights)\n",
    "    \n",
    "    \n",
    "    n = len(weights)\n",
    "    variance = np.var(weights, ddof=1) / n    # variance of the estimator\n",
    "    stderr = np.sqrt(variance) / np.sqrt(n)               # standard error of the estimator\n",
    "\n",
    "    return estimate, variance, stderr\n"
   ]
  },
  {
   "cell_type": "code",
   "execution_count": 152,
   "metadata": {},
   "outputs": [],
   "source": [
    "# ==============================================================\n",
    "# 1.  Integrated autocorrelation time (Sokal-Geyer window)\n",
    "# ==============================================================\n",
    "\n",
    "import numpy as np\n",
    "from numpy.fft import rfft, irfft\n",
    "\n",
    "def integrated_autocorrelation_time(x, c=5):\n",
    "    \"\"\"\n",
    "    Estimate the integrated autocorrelation time (τ_int) of a\n",
    "    1-D stationary series using Sokal's self-consistent window.\n",
    "\n",
    "    Parameters\n",
    "    ----------\n",
    "    x : array_like\n",
    "        1-D chain of values (will be cast to float64).\n",
    "    c : int, optional\n",
    "        Window parameter (default 5).  Larger -> longer window\n",
    "        (less bias, more noise).\n",
    "\n",
    "    Returns\n",
    "    -------\n",
    "    float\n",
    "        τ_int  (≥ 1 for any correlated chain; =1 for i.i.d.)\n",
    "    \"\"\"\n",
    "    x = np.asarray(x, dtype=np.float64)\n",
    "    n = x.size\n",
    "    if n < 2:\n",
    "        raise ValueError(\"Need at least two samples\")\n",
    "\n",
    "    # de-mean\n",
    "    x = x - x.mean()\n",
    "\n",
    "    # ------------------------------------------------------------------\n",
    "    # autocovariance via FFT:  O(N log N) instead of O(N^2)\n",
    "    # ------------------------------------------------------------------\n",
    "    f       = rfft(x, n=2*n)            # zero-padded FFT\n",
    "    acov    = irfft(f * np.conj(f))[:n] # raw autocovariance\n",
    "    acov   /= np.arange(n, 0, -1)       # (N-k) denominator\n",
    "    acf     = acov / acov[0]            # normalised ρ_k\n",
    "\n",
    "    # ------------------------------------------------------------------\n",
    "    # Sokal window:  keep summing while k ≤ c * τ\n",
    "    # ------------------------------------------------------------------\n",
    "    tau_int = 1.0\n",
    "    for k in range(1, n):\n",
    "        if k > c * tau_int:\n",
    "            break\n",
    "        tau_int += 2.0 * acf[k]\n",
    "    return tau_int\n",
    "\n",
    "\n",
    "# ==============================================================\n",
    "# 2.  Monte-Carlo variance & standard error for a *correlated* mean\n",
    "# ==============================================================\n",
    "\n",
    "def mc_variance(series, *, c=5):\n",
    "    \"\"\"\n",
    "    Return the variance and SE of the sample mean of a correlated series.\n",
    "\n",
    "    Var( mean(x) )  ≈  var(x) * τ_int / N\n",
    "    \"\"\"\n",
    "    series = np.asarray(series, dtype=np.float64)\n",
    "    n      = series.size\n",
    "    tau    = integrated_autocorrelation_time(series, c=c)\n",
    "    var_x  = np.var(series, ddof=1)           # unbiased variance of draws\n",
    "    var_estimator = var_x * tau / n           # > naive var_x / n\n",
    "    se_estimator  = np.sqrt(var_estimator)\n",
    "    return var_estimator, se_estimator, tau\n",
    "\n",
    "\n",
    "# ==============================================================\n",
    "# 3.  Hybrid importance sampling with *autocorrelation-corrected* error\n",
    "# ==============================================================\n",
    "\n",
    "def hybrid_importance_sampling1(f, chain, kde_pdf, *, c=5):\n",
    "    \"\"\"\n",
    "    Estimate E[f(X)] by importance sampling with KDE proposal\n",
    "    **and** return a rigorous variance accounting for autocorrelation.\n",
    "\n",
    "    Returns\n",
    "    -------\n",
    "    estimate : float\n",
    "    variance : float   (Var[estimate])\n",
    "    stderr   : float   (sqrt(variance))\n",
    "    tau      : float   (τ_int of the weights, diagnostic)\n",
    "    \"\"\"\n",
    "    weights = f(chain) / kde_pdf(chain)          # importance weights\n",
    "    estimate = weights.mean()\n",
    "\n",
    "    variance, stderr, tau = mc_variance(weights, c=c)\n",
    "    return estimate, variance, stderr, tau\n"
   ]
  },
  {
   "cell_type": "code",
   "execution_count": 153,
   "metadata": {},
   "outputs": [
    {
     "name": "stdout",
     "output_type": "stream",
     "text": [
      "Acceptance rate: 0.76\n",
      "Acceptance rate: 0.60\n",
      "Acceptance rate: 0.60\n",
      "Acceptance rate: 0.61\n",
      "Acceptance rate: 0.61\n",
      "Acceptance rate: 0.61\n",
      "Acceptance rate: 0.61\n",
      "Acceptance rate: 0.61\n",
      "Acceptance rate: 0.61\n",
      "Acceptance rate: 0.60\n",
      "Acceptance rate: 0.61\n"
     ]
    },
    {
     "data": {
      "image/png": "[encoded data removed]",
      "text/plain": [
       "<Figure size 720x432 with 1 Axes>"
      ]
     },
     "metadata": {
      "needs_background": "light"
     },
     "output_type": "display_data"
    }
   ],
   "source": [
    "# --- build a chain -----------------------------------------------------\n",
    "N = 10_000\n",
    "chain = metropolis_python(f, N, rng.uniform(-4, 4), step_size=1.0,\n",
    "                          burnin=500, thinning=2)\n",
    "\n",
    "def f(x):\n",
    "    return np.exp(-x**2)  # Gaussian distribution\n",
    "\n",
    "# --- KDE proposal ------------------------------------------------------\n",
    "h0  = silverman_bandwidth(chain)\n",
    "kde = adaptive_kde(chain, h0, alpha=0.5)\n",
    "\n",
    "# --- Hybrid importance sampling w/ correct error ----------------------\n",
    "Ihat, var_I, se_I = hybrid_importance_sampling(f, chain, kde)\n",
    "\n",
    "# --- Plot Ihat and standard error vs N ----------------------\n",
    "Ns = np.arange(1000, N + 1, 1000)  # Range of N values\n",
    "estimates = []\n",
    "errors = []\n",
    "\n",
    "for n in Ns:\n",
    "    chain = metropolis_python(f, n, rng.uniform(-4, 4), step_size=1.0,\n",
    "                              burnin=500, thinning=2)\n",
    "    h0 = silverman_bandwidth(chain)\n",
    "    kde = adaptive_kde(chain, h0, alpha=0.5)\n",
    "    Ihat, _, se_I = hybrid_importance_sampling(f, chain, kde)\n",
    "    estimates.append(Ihat)\n",
    "    errors.append(se_I)\n",
    "\n",
    "plt.figure(figsize=(10, 6))\n",
    "plt.plot(Ns, estimates, label=\"Estimate (Ihat)\", marker='o')\n",
    "plt.plot(Ns, errors, label=\"Standard Error\", marker='o')\n",
    "plt.xlabel(\"N\")\n",
    "plt.ylabel(\"Value\")\n",
    "plt.title(\"Estimate (Ihat) and Standard Error vs N\")\n",
    "plt.legend()\n",
    "plt.grid()\n",
    "plt.show()\n"
   ]
  },
  {
   "cell_type": "code",
   "execution_count": 154,
   "metadata": {},
   "outputs": [
    {
     "data": {
      "image/png": "[encoded data removed]",
      "text/plain": [
       "<Figure size 720x432 with 1 Axes>"
      ]
     },
     "metadata": {
      "needs_background": "light"
     },
     "output_type": "display_data"
    }
   ],
   "source": [
    "sqrtN = 1 / np.sqrt(Ns)\n",
    "plt.figure(figsize=(10, 6))\n",
    "plt.plot(Ns, sqrtN, label=\"1/sqrt(N)\", linestyle=\"--\")\n",
    "plt.loglog(Ns, errors, marker='o', label=\"Errors\")\n",
    "plt.xlabel(\"N (log scale)\")\n",
    "plt.ylabel(\"Errors (log scale)\")\n",
    "plt.title(\"Errors vs N (Log-Log Plot)\")\n",
    "plt.legend()\n",
    "plt.grid(which=\"both\", linestyle=\"--\", linewidth=0.5)\n",
    "plt.show()"
   ]
  },
  {
   "cell_type": "code",
   "execution_count": 155,
   "metadata": {},
   "outputs": [
    {
     "data": {
      "text/plain": [
       "'N=10000\\nm_chain = metropolis_python(f, N, rng.uniform(-1, 1), 4, 200, 1)\\nh_fixed = silverman_bandwidth(m_chain)\\nkde = adaptive_kde(m_chain, h_fixed, alpha=0.5)\\n\\nprint(\"Hybrid Importance Sampling Estimate:\"),\\nhybrid_importance_sampling(f, m_chain, kde)'"
      ]
     },
     "execution_count": 155,
     "metadata": {},
     "output_type": "execute_result"
    }
   ],
   "source": [
    "#========================Example Usage of Hybrid Importance Sampling========================\n",
    "'''N=10000\n",
    "m_chain = metropolis_python(f, N, rng.uniform(-1, 1), 4, 200, 1)\n",
    "h_fixed = silverman_bandwidth(m_chain)\n",
    "kde = adaptive_kde(m_chain, h_fixed, alpha=0.5)\n",
    "\n",
    "print(\"Hybrid Importance Sampling Estimate:\"),\n",
    "hybrid_importance_sampling(f, m_chain, kde)'''"
   ]
  },
  {
   "cell_type": "code",
   "execution_count": 156,
   "metadata": {},
   "outputs": [
    {
     "name": "stdout",
     "output_type": "stream",
     "text": [
      "Acceptance rate: 0.61\n"
     ]
    },
    {
     "name": "stderr",
     "output_type": "stream",
     "text": [
      "/var/folders/1j/0q6grdh110z1c008s2nrczkm0000gn/T/ipykernel_90139/2136066993.py:13: RuntimeWarning: invalid value encountered in double_scalars\n",
      "  alpha = min(1.0, f(x_cand) / f(x))\n",
      "/var/folders/1j/0q6grdh110z1c008s2nrczkm0000gn/T/ipykernel_90139/2136066993.py:13: RuntimeWarning: divide by zero encountered in double_scalars\n",
      "  alpha = min(1.0, f(x_cand) / f(x))\n"
     ]
    },
    {
     "name": "stdout",
     "output_type": "stream",
     "text": [
      "Acceptance rate: 0.61\n",
      "Acceptance rate: 0.61\n",
      "Acceptance rate: 0.61\n",
      "Acceptance rate: 0.61\n"
     ]
    },
    {
     "name": "stderr",
     "output_type": "stream",
     "text": [
      "/var/folders/1j/0q6grdh110z1c008s2nrczkm0000gn/T/ipykernel_90139/2136066993.py:13: RuntimeWarning: invalid value encountered in double_scalars\n",
      "  alpha = min(1.0, f(x_cand) / f(x))\n",
      "/var/folders/1j/0q6grdh110z1c008s2nrczkm0000gn/T/ipykernel_90139/2136066993.py:13: RuntimeWarning: divide by zero encountered in double_scalars\n",
      "  alpha = min(1.0, f(x_cand) / f(x))\n"
     ]
    },
    {
     "name": "stdout",
     "output_type": "stream",
     "text": [
      "Acceptance rate: 0.61\n"
     ]
    },
    {
     "name": "stderr",
     "output_type": "stream",
     "text": [
      "/var/folders/1j/0q6grdh110z1c008s2nrczkm0000gn/T/ipykernel_90139/2136066993.py:13: RuntimeWarning: invalid value encountered in double_scalars\n",
      "  alpha = min(1.0, f(x_cand) / f(x))\n",
      "/var/folders/1j/0q6grdh110z1c008s2nrczkm0000gn/T/ipykernel_90139/2136066993.py:13: RuntimeWarning: divide by zero encountered in double_scalars\n",
      "  alpha = min(1.0, f(x_cand) / f(x))\n"
     ]
    },
    {
     "name": "stdout",
     "output_type": "stream",
     "text": [
      "Acceptance rate: 0.61\n",
      "Acceptance rate: 0.61\n",
      "Acceptance rate: 0.61\n"
     ]
    },
    {
     "name": "stderr",
     "output_type": "stream",
     "text": [
      "/var/folders/1j/0q6grdh110z1c008s2nrczkm0000gn/T/ipykernel_90139/2136066993.py:13: RuntimeWarning: invalid value encountered in double_scalars\n",
      "  alpha = min(1.0, f(x_cand) / f(x))\n",
      "/var/folders/1j/0q6grdh110z1c008s2nrczkm0000gn/T/ipykernel_90139/2136066993.py:13: RuntimeWarning: divide by zero encountered in double_scalars\n",
      "  alpha = min(1.0, f(x_cand) / f(x))\n"
     ]
    },
    {
     "name": "stdout",
     "output_type": "stream",
     "text": [
      "Acceptance rate: 0.61\n",
      "Acceptance rate: 0.61\n",
      "Acceptance rate: 0.61\n",
      "Acceptance rate: 0.61\n"
     ]
    },
    {
     "name": "stderr",
     "output_type": "stream",
     "text": [
      "/var/folders/1j/0q6grdh110z1c008s2nrczkm0000gn/T/ipykernel_90139/2136066993.py:13: RuntimeWarning: invalid value encountered in double_scalars\n",
      "  alpha = min(1.0, f(x_cand) / f(x))\n",
      "/var/folders/1j/0q6grdh110z1c008s2nrczkm0000gn/T/ipykernel_90139/2136066993.py:13: RuntimeWarning: divide by zero encountered in double_scalars\n",
      "  alpha = min(1.0, f(x_cand) / f(x))\n"
     ]
    },
    {
     "name": "stdout",
     "output_type": "stream",
     "text": [
      "Acceptance rate: 0.61\n"
     ]
    },
    {
     "name": "stderr",
     "output_type": "stream",
     "text": [
      "/var/folders/1j/0q6grdh110z1c008s2nrczkm0000gn/T/ipykernel_90139/2136066993.py:13: RuntimeWarning: invalid value encountered in double_scalars\n",
      "  alpha = min(1.0, f(x_cand) / f(x))\n",
      "/var/folders/1j/0q6grdh110z1c008s2nrczkm0000gn/T/ipykernel_90139/2136066993.py:13: RuntimeWarning: divide by zero encountered in double_scalars\n",
      "  alpha = min(1.0, f(x_cand) / f(x))\n"
     ]
    },
    {
     "name": "stdout",
     "output_type": "stream",
     "text": [
      "Acceptance rate: 0.61\n",
      "Acceptance rate: 0.61\n",
      "Acceptance rate: 0.61\n",
      "Acceptance rate: 0.61\n"
     ]
    },
    {
     "name": "stderr",
     "output_type": "stream",
     "text": [
      "/var/folders/1j/0q6grdh110z1c008s2nrczkm0000gn/T/ipykernel_90139/2136066993.py:13: RuntimeWarning: invalid value encountered in double_scalars\n",
      "  alpha = min(1.0, f(x_cand) / f(x))\n",
      "/var/folders/1j/0q6grdh110z1c008s2nrczkm0000gn/T/ipykernel_90139/2136066993.py:13: RuntimeWarning: divide by zero encountered in double_scalars\n",
      "  alpha = min(1.0, f(x_cand) / f(x))\n"
     ]
    },
    {
     "name": "stdout",
     "output_type": "stream",
     "text": [
      "Acceptance rate: 0.61\n"
     ]
    },
    {
     "name": "stderr",
     "output_type": "stream",
     "text": [
      "/var/folders/1j/0q6grdh110z1c008s2nrczkm0000gn/T/ipykernel_90139/2136066993.py:13: RuntimeWarning: invalid value encountered in double_scalars\n",
      "  alpha = min(1.0, f(x_cand) / f(x))\n",
      "/var/folders/1j/0q6grdh110z1c008s2nrczkm0000gn/T/ipykernel_90139/2136066993.py:13: RuntimeWarning: divide by zero encountered in double_scalars\n",
      "  alpha = min(1.0, f(x_cand) / f(x))\n"
     ]
    },
    {
     "name": "stdout",
     "output_type": "stream",
     "text": [
      "Acceptance rate: 0.61\n",
      "Acceptance rate: 0.61\n",
      "Acceptance rate: 0.61\n",
      "Acceptance rate: 0.61\n",
      "Acceptance rate: 0.61\n"
     ]
    },
    {
     "name": "stderr",
     "output_type": "stream",
     "text": [
      "/var/folders/1j/0q6grdh110z1c008s2nrczkm0000gn/T/ipykernel_90139/2136066993.py:13: RuntimeWarning: invalid value encountered in double_scalars\n",
      "  alpha = min(1.0, f(x_cand) / f(x))\n",
      "/var/folders/1j/0q6grdh110z1c008s2nrczkm0000gn/T/ipykernel_90139/2136066993.py:13: RuntimeWarning: divide by zero encountered in double_scalars\n",
      "  alpha = min(1.0, f(x_cand) / f(x))\n"
     ]
    },
    {
     "name": "stdout",
     "output_type": "stream",
     "text": [
      "Acceptance rate: 0.61\n",
      "Acceptance rate: 0.61\n",
      "Acceptance rate: 0.61\n",
      "Acceptance rate: 0.61\n",
      "Acceptance rate: 0.61\n"
     ]
    },
    {
     "name": "stderr",
     "output_type": "stream",
     "text": [
      "/var/folders/1j/0q6grdh110z1c008s2nrczkm0000gn/T/ipykernel_90139/2136066993.py:13: RuntimeWarning: invalid value encountered in double_scalars\n",
      "  alpha = min(1.0, f(x_cand) / f(x))\n",
      "/var/folders/1j/0q6grdh110z1c008s2nrczkm0000gn/T/ipykernel_90139/2136066993.py:13: RuntimeWarning: divide by zero encountered in double_scalars\n",
      "  alpha = min(1.0, f(x_cand) / f(x))\n"
     ]
    },
    {
     "name": "stdout",
     "output_type": "stream",
     "text": [
      "Acceptance rate: 0.61\n"
     ]
    },
    {
     "data": {
      "image/png": "[encoded data removed]",
      "text/plain": [
       "<Figure size 720x432 with 1 Axes>"
      ]
     },
     "metadata": {
      "needs_background": "light"
     },
     "output_type": "display_data"
    }
   ],
   "source": [
    "# Generate a Markov chain using the Metropolis-Hastings algorithm\n",
    "N = 10000\n",
    "plt.figure(figsize=(10, 6))\n",
    "for i in range(30):\n",
    "    m_chain = metropolis_python(f, N, rng.uniform(-40, 40), 1, 1, 20)\n",
    "\n",
    "    # Plot the Markov chain against its length\n",
    "    #plt.figure(figsize=(10, 6))\n",
    "    plt.plot(range(len(m_chain)), m_chain, label=\"Markov Chain\")\n",
    "plt.xlabel(\"Step\")\n",
    "plt.ylabel(\"Value\")\n",
    "plt.title(\"Markov Chain vs. Length of Chain\")\n",
    "#plt.legend()\n",
    "plt.grid()\n",
    "plt.show()"
   ]
  }
 ],
 "metadata": {
  "kernelspec": {
   "display_name": "Python (Anaconda + Cython)",
   "language": "python",
   "name": "cython_env"
  },
  "language_info": {
   "codemirror_mode": {
    "name": "ipython",
    "version": 3
   },
   "file_extension": ".py",
   "mimetype": "text/x-python",
   "name": "python",
   "nbconvert_exporter": "python",
   "pygments_lexer": "ipython3",
   "version": "3.9.12"
  }
 },
 "nbformat": 4,
 "nbformat_minor": 2
}
