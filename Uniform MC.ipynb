{
 "cells": [
  {
   "cell_type": "code",
   "execution_count": 1,
   "id": "deb023b5",
   "metadata": {},
   "outputs": [],
   "source": [
    "import numpy as np\n",
    "import matplotlib.pyplot as plt\n",
    "import random as rd"
   ]
  },
  {
   "cell_type": "code",
   "execution_count": 42,
   "id": "3170f858",
   "metadata": {},
   "outputs": [
    {
     "name": "stdout",
     "output_type": "stream",
     "text": [
      "2.5078100456394545\n"
     ]
    }
   ],
   "source": [
    "def uniform_mc_integrate(f, a, b, n_samples=10000):\n",
    "    samples = np.random.uniform(a, b, n_samples)\n",
    "    values = f(samples)\n",
    "    return (b - a) * np.mean(values)\n",
    "\n",
    "result = uniform_mc_integrate(lambda x: np.exp(-0.5 * (x**2)), -30, 30, 100000000)\n",
    "print(result)\n"
   ]
  }
 ],
 "metadata": {
  "kernelspec": {
   "display_name": "Python 3",
   "language": "python",
   "name": "python3"
  },
  "language_info": {
   "codemirror_mode": {
    "name": "ipython",
    "version": 3
   },
   "file_extension": ".py",
   "mimetype": "text/x-python",
   "name": "python",
   "nbconvert_exporter": "python",
   "pygments_lexer": "ipython3",
   "version": "3.11.5"
  }
 },
 "nbformat": 4,
 "nbformat_minor": 5
}
