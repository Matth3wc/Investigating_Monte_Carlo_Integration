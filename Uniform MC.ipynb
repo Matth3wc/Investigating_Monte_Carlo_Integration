{
 "cells": [
  {
   "cell_type": "code",
   "execution_count": 42,
   "id": "deb023b5",
   "metadata": {},
   "outputs": [],
   "source": [
    "import numpy as np\n",
    "import matplotlib.pyplot as plt\n",
    "import random as rd"
   ]
  },
  {
   "cell_type": "code",
   "execution_count": 43,
   "id": "3170f858",
   "metadata": {},
   "outputs": [],
   "source": [
    "def uniform_mc_integrate(f, a, b, N):\n",
    "    samples = np.random.uniform(a, b, N)\n",
    "    values = f(samples)\n",
    "\n",
    "    # Variance of the Monte Carlo estimate\n",
    "    #variance = np.var(values, ddof=0)\n",
    "    \n",
    "    variance = np.mean((values - np.mean(values))**2)\n",
    "    return (b - a) * np.mean(values), variance\n"
   ]
  }
 ],
 "metadata": {
  "kernelspec": {
   "display_name": "Python (Anaconda + Cython)",
   "language": "python",
   "name": "anaconda-cython"
  },
  "language_info": {
   "codemirror_mode": {
    "name": "ipython",
    "version": 3
   },
   "file_extension": ".py",
   "mimetype": "text/x-python",
   "name": "python",
   "nbconvert_exporter": "python",
   "pygments_lexer": "ipython3",
   "version": "3.9.12"
  }
 },
 "nbformat": 4,
 "nbformat_minor": 5
}
