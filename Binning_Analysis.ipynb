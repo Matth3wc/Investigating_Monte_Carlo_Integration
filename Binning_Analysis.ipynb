{
 "cells": [
  {
   "cell_type": "code",
   "execution_count": null,
   "metadata": {},
   "outputs": [],
   "source": [
    "def blocking_variance(series, min_blocks=4):\n",
    "    \"\"\"\n",
    "    Return\n",
    "        bin_sizes  – powers-of-2 block lengths\n",
    "        var_mean   – variance of the MCMC mean at each block size\n",
    "        err_var    – 1-σ uncertainty of that variance\n",
    "    \"\"\"\n",
    "    N = len(series)\n",
    "    max_power = int(np.log2(N // min_blocks))\n",
    "    bin_sizes = 2 ** np.arange(max_power + 1)\n",
    "\n",
    "    var_mean, err_var = [], []\n",
    "    for L in bin_sizes:\n",
    "        n_blocks = N // L\n",
    "        if n_blocks < min_blocks:               # need ≥ min_blocks estimates\n",
    "            break\n",
    "        # reshape   → one mean per block\n",
    "        blocks = series[:n_blocks * L].reshape(n_blocks, L).mean(axis=1)\n",
    "\n",
    "        s2      = blocks.var(ddof=1)            # unbiased σ² of block means\n",
    "        v_mean  = s2 / n_blocks                 # Var[overall mean]\n",
    "        var_mean.append(v_mean)\n",
    "\n",
    "        # 1-σ error bar from χ² statistics\n",
    "        err_var.append(v_mean * np.sqrt(2 / (n_blocks - 1)))\n",
    "\n",
    "    return bin_sizes[:len(var_mean)], np.array(var_mean), np.array(err_var)"
   ]
  },
  {
   "cell_type": "code",
   "execution_count": null,
   "metadata": {},
   "outputs": [],
   "source": [
    "# --- 0. parameters ----------------------------------------\n",
    "\n",
    "N = 100000  # Number of samples\n",
    "step_size = 1  # Step size for the proposal distribution\n",
    "xo = rng.uniform(-step_size, step_size)  # Initial point for the Markov chain rng.uniform(-step_size, step_size)\n",
    "burnin = 1000  # Number of samples to discard as burn-in\n",
    "thinning = 2  # Thinning factor for the Markov chain\n",
    "\n",
    "# --- 1. generate a correlated chain (AR(1)) -----------------\n",
    "markov_chain, prob_accept = metropolis_hastings(xo, thinning, burnin, N, step_size)\n",
    "\n",
    "f_i = f(markov_chain)/ target_pdf(markov_chain)  # Importance weights for the samples\n",
    "\n",
    "# --- 2. blocking analysis with error bars ------------------\n",
    "bin_sizes, vars_mean, errs = blocking_variance(f_i)\n",
    "\n",
    "# --- 3. plot -----------------------------------------------\n",
    "plt.figure(figsize=(8, 6))\n",
    "plt.errorbar(bin_sizes, vars_mean, yerr=errs,\n",
    "             fmt='-s', capsize=3, linewidth=1, markersize=4)\n",
    "plt.xscale('log')\n",
    "plt.yscale('log')\n",
    "plt.xlabel(\"Bin size $L$\")\n",
    "plt.ylabel(r\"Var[$\\hat\\mu$]\")\n",
    "plt.title(\"Variance of MCMC mean vs. block size\\n(with 1-σ error bars)\")\n",
    "plt.tight_layout()\n",
    "plt.show()\n"
   ]
  }
 ],
 "metadata": {
  "kernelspec": {
   "display_name": "Python 3",
   "language": "python",
   "name": "python3"
  },
  "language_info": {
   "codemirror_mode": {
    "name": "ipython",
    "version": 3
   },
   "file_extension": ".py",
   "mimetype": "text/x-python",
   "name": "python",
   "nbconvert_exporter": "python",
   "pygments_lexer": "ipython3",
   "version": "3.9.6"
  }
 },
 "nbformat": 4,
 "nbformat_minor": 2
}
