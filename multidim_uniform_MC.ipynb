{
 "cells": [
  {
   "cell_type": "markdown",
   "id": "ebb315ef",
   "metadata": {},
   "source": [
    "# Multidimensional Integral Estimation using Monte Carlo with Uniform Sampling\n",
    "This notebook demonstrates how to estimate a multidimensional integral using standard Monte Carlo integration with uniform random sampling."
   ]
  },
  {
   "cell_type": "code",
   "execution_count": 1,
   "id": "c5a9b781",
   "metadata": {},
   "outputs": [],
   "source": [
    "import numpy as np\n",
    "import matplotlib.pyplot as plt\n",
    "\n",
    "# User-defined function to integrate (default: exp(-sum(x**2)))\n",
    "def integrand(x):\n",
    "    x = np.asarray(x)\n",
    "    return np.exp(-np.sum(x**2, axis=-1))"
   ]
  },
  {
   "cell_type": "code",
   "execution_count": 2,
   "id": "5b57ab16",
   "metadata": {},
   "outputs": [],
   "source": [
    "# Monte Carlo integration for multidimensional case\n",
    "def monte_carlo_integral(integrand, bounds, N):\n",
    "    d = len(bounds[0])\n",
    "    low = np.array(bounds[0])\n",
    "    high = np.array(bounds[1])\n",
    "    samples = np.random.uniform(low, high, size=(N, d))\n",
    "    vol = np.prod(high - low)\n",
    "    values = integrand(samples)\n",
    "    estimate = vol * np.mean(values)\n",
    "    std_error = vol * np.std(values) / np.sqrt(N)\n",
    "    return estimate, std_error"
   ]
  },
  {
   "cell_type": "markdown",
   "id": "619e2e87",
   "metadata": {},
   "source": [
    "# Example Usage"
   ]
  },
  {
   "cell_type": "code",
   "execution_count": 3,
   "id": "fec629c0",
   "metadata": {},
   "outputs": [
    {
     "name": "stdout",
     "output_type": "stream",
     "text": [
      "Estimated integral in 3D: 5.467718205367504 ± 0.06208188694598504\n",
      "Actual value is  5.568327996831708\n"
     ]
    }
   ],
   "source": [
    "# Example usage: 3D integral over [-3, 3]^3\n",
    "D = 3\n",
    "N = 100_000\n",
    "bounds = [np.full(D, -3), np.full(D, 3)]\n",
    "\n",
    "estimate, std_error = monte_carlo_integral(integrand, bounds, N)\n",
    "print(f\"Estimated integral in {D}D: {estimate} ± {std_error}\")\n",
    "print(\"Actual value is \", np.pi ** (D/2))"
   ]
  },
  {
   "cell_type": "markdown",
   "id": "75945019",
   "metadata": {},
   "source": [
    "You can change the value of `D`, the integration bounds, and the function `integrand` to try different multidimensional integrals. The code uses uniform random sampling for standard Monte Carlo integration."
   ]
  }
 ],
 "metadata": {
  "kernelspec": {
   "display_name": "Python 3",
   "language": "python",
   "name": "python3"
  },
  "language_info": {
   "codemirror_mode": {
    "name": "ipython",
    "version": 3
   },
   "file_extension": ".py",
   "mimetype": "text/x-python",
   "name": "python",
   "nbconvert_exporter": "python",
   "pygments_lexer": "ipython3",
   "version": "3.11.5"
  }
 },
 "nbformat": 4,
 "nbformat_minor": 5
}
