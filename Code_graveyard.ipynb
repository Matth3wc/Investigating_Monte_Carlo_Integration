{
 "cells": [
  {
   "cell_type": "code",
   "execution_count": null,
   "metadata": {},
   "outputs": [],
   "source": [
    "'''#Importing Cython for performance optimization\n",
    "!/Library/Developer/CommandLineTools/usr/bin/python3 -m pip install cython\n",
    "\n",
    "%load_ext Cython'''\n",
    "'''%%cython\n",
    "#=======================Metropolis-Hastings Algorithm (Cython)========================\n",
    "\n",
    "import numpy as np\n",
    "cimport numpy as np\n",
    "from libc.stdlib cimport rand, RAND_MAX\n",
    "from libc.math cimport fmin\n",
    "cimport cython\n",
    "\n",
    "@cython.boundscheck(False)\n",
    "@cython.wraparound(False)\n",
    "\n",
    "def metropolis_cython(int N, double x0, double step_size, int burnin, int thinning):\n",
    "    cdef int total_steps = N * thinning + burnin\n",
    "    cdef np.ndarray[np.double_t, ndim=1] samples = np.empty(N, dtype=np.double)\n",
    "    cdef double x = x0\n",
    "    cdef int i, count = 0\n",
    "    cdef double x_cand, alpha, u\n",
    "\n",
    "    for i in range(total_steps):\n",
    "        x_cand = x + step_size * (rng.uniform(-step_size, step_size))\n",
    "        alpha = fmin(1.0, (1.0 / (1.0 + x_cand * x_cand)) / (1.0 / (1.0 + x * x)))\n",
    "        u = rand() / <double>RAND_MAX\n",
    "        if u < alpha:\n",
    "            x = x_cand\n",
    "        if i >= burnin and (i - burnin) % thinning == 0:\n",
    "            samples[count] = x\n",
    "            count += 1\n",
    "    samples.sort()\n",
    "    return samples'''"
   ]
  },
  {
   "cell_type": "code",
   "execution_count": null,
   "metadata": {},
   "outputs": [],
   "source": []
  }
 ],
 "metadata": {
  "kernelspec": {
   "display_name": "Python (Anaconda + Cython)",
   "language": "python",
   "name": "cython_env"
  },
  "language_info": {
   "name": "python",
   "version": "3.9.12"
  }
 },
 "nbformat": 4,
 "nbformat_minor": 2
}
