{
 "cells": [
  {
   "cell_type": "code",
   "execution_count": 1,
   "metadata": {},
   "outputs": [
    {
     "data": {
      "text/plain": [
       "'pip install nbimporter\\n'"
      ]
     },
     "execution_count": 1,
     "metadata": {},
     "output_type": "execute_result"
    }
   ],
   "source": [
    "'''pip install nbimporter\n",
    "'''"
   ]
  },
  {
   "cell_type": "code",
   "execution_count": 2,
   "metadata": {},
   "outputs": [],
   "source": [
    "import nbimporter\n",
    "\n",
    "#==============================Dependencies================================\n",
    "\n",
    "#libraries\n",
    "import matplotlib.pyplot as plt\n",
    "import numpy as np\n",
    "from scipy.stats import norm, truncnorm\n",
    "from numpy.random import Generator, MT19937\n",
    "import time\n",
    "\n",
    "#Initializing the random number generator\n",
    "seed = int(time.time()) \n",
    "bitgen = MT19937(seed)\n",
    "rng = Generator(bitgen)  # reproducible generator"
   ]
  },
  {
   "cell_type": "code",
   "execution_count": 3,
   "metadata": {},
   "outputs": [
    {
     "ename": "ModuleNotFoundError",
     "evalue": "No module named 'Importance_Analysis'",
     "output_type": "error",
     "traceback": [
      "\u001b[0;31m---------------------------------------------------------------------------\u001b[0m",
      "\u001b[0;31mModuleNotFoundError\u001b[0m                       Traceback (most recent call last)",
      "Input \u001b[0;32mIn [3]\u001b[0m, in \u001b[0;36m<cell line: 3>\u001b[0;34m()\u001b[0m\n\u001b[1;32m      1\u001b[0m \u001b[38;5;28;01mfrom\u001b[39;00m \u001b[38;5;21;01mhybrid_mcmc_KDE\u001b[39;00m \u001b[38;5;28;01mimport\u001b[39;00m metropolis_python, silverman_bandwidth, adaptive_kde, hybrid_importance_sampling  \n\u001b[0;32m----> 3\u001b[0m \u001b[38;5;28;01mfrom\u001b[39;00m \u001b[38;5;21;01mImportance_Analysis\u001b[39;00m \u001b[38;5;28;01mimport\u001b[39;00m importance_integration, target_pdf\n\u001b[1;32m      5\u001b[0m \u001b[38;5;28;01mfrom\u001b[39;00m \u001b[38;5;21;01mUniform_MC\u001b[39;00m \u001b[38;5;28;01mimport\u001b[39;00m uniform_mc\n",
      "\u001b[0;31mModuleNotFoundError\u001b[0m: No module named 'Importance_Analysis'"
     ]
    }
   ],
   "source": [
    "from hybrid_mcmc_KDE import metropolis_python, silverman_bandwidth, adaptive_kde, hybrid_importance_sampling  \n",
    "\n",
    "from Importance_Analysis import importance_integration, target_pdf\n",
    "\n",
    "from Uniform_MC import uniform_mc"
   ]
  },
  {
   "cell_type": "code",
   "execution_count": null,
   "metadata": {},
   "outputs": [],
   "source": [
    "def f(x):\n",
    "    return 1 / (1 + x**2)  # Cauchy distribution"
   ]
  },
  {
   "cell_type": "code",
   "execution_count": null,
   "metadata": {},
   "outputs": [
    {
     "name": "stdout",
     "output_type": "stream",
     "text": [
      "Acceptance rate: 0.45\n",
      "Hybrid Importance Sampling Estimate:\n"
     ]
    },
    {
     "data": {
      "text/plain": [
       "(3.1214641475962237, 2.744220087376017e-05)"
      ]
     },
     "execution_count": 11,
     "metadata": {},
     "output_type": "execute_result"
    }
   ],
   "source": [
    "m_chain = metropolis_python(f, N, rng.uniform(-1, 1), 4, 200, 1)\n",
    "h_fixed = silverman_bandwidth(m_chain)\n",
    "kde = adaptive_kde(m_chain, h_fixed, alpha=0.5)\n",
    "\n",
    "print(\"Hybrid Importance Sampling Estimate:\"),\n",
    "hybrid_importance_sampling(f, m_chain, kde)"
   ]
  }
 ],
 "metadata": {
  "kernelspec": {
   "display_name": "Python (Anaconda + Cython)",
   "language": "python",
   "name": "anaconda-cython"
  },
  "language_info": {
   "codemirror_mode": {
    "name": "ipython",
    "version": 3
   },
   "file_extension": ".py",
   "mimetype": "text/x-python",
   "name": "python",
   "nbconvert_exporter": "python",
   "pygments_lexer": "ipython3",
   "version": "3.9.12"
  }
 },
 "nbformat": 4,
 "nbformat_minor": 2
}
