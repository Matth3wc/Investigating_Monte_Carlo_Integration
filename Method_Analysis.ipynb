{
 "cells": [
  {
   "cell_type": "code",
   "execution_count": 11,
   "metadata": {},
   "outputs": [
    {
     "data": {
      "text/plain": [
       "'pip install nbimporter\\n'"
      ]
     },
     "execution_count": 11,
     "metadata": {},
     "output_type": "execute_result"
    }
   ],
   "source": [
    "'''pip install nbimporter\n",
    "'''"
   ]
  },
  {
   "cell_type": "code",
   "execution_count": 12,
   "metadata": {},
   "outputs": [],
   "source": [
    "import nbimporter\n",
    "\n",
    "#==============================Dependencies================================\n",
    "\n",
    "#libraries\n",
    "import matplotlib.pyplot as plt\n",
    "import numpy as np\n",
    "from scipy.stats import norm, truncnorm\n",
    "from numpy.random import Generator, MT19937\n",
    "import time\n",
    "\n",
    "#Initializing the random number generator\n",
    "seed = int(time.time()) \n",
    "bitgen = MT19937(seed)\n",
    "rng = Generator(bitgen)  # reproducible generator"
   ]
  },
  {
   "cell_type": "code",
   "execution_count": 13,
   "metadata": {},
   "outputs": [],
   "source": [
    "from hybrid_mcmc_KDE import metropolis_python, silverman_bandwidth, adaptive_kde, hybrid_importance_sampling  \n",
    "\n",
    "from Importance_Int import importance_integration, target_pdf\n",
    "\n",
    "from Uniform_MC import uniform_mc_integrate"
   ]
  },
  {
   "cell_type": "code",
   "execution_count": 14,
   "metadata": {},
   "outputs": [],
   "source": [
    "def f(x):\n",
    "    return 1 / (1 + x**2)  # Cauchy distribution"
   ]
  },
  {
   "cell_type": "code",
   "execution_count": 15,
   "metadata": {},
   "outputs": [
    {
     "ename": "ValueError",
     "evalue": "not enough values to unpack (expected 3, got 2)",
     "output_type": "error",
     "traceback": [
      "\u001b[0;31m---------------------------------------------------------------------------\u001b[0m",
      "\u001b[0;31mValueError\u001b[0m                                Traceback (most recent call last)",
      "Input \u001b[0;32mIn [15]\u001b[0m, in \u001b[0;36m<cell line: 27>\u001b[0;34m()\u001b[0m\n\u001b[1;32m     26\u001b[0m \u001b[38;5;66;03m# Compute the importance integration for each N\u001b[39;00m\n\u001b[1;32m     27\u001b[0m \u001b[38;5;28;01mfor\u001b[39;00m N \u001b[38;5;129;01min\u001b[39;00m N_values:\n\u001b[1;32m     28\u001b[0m     \u001b[38;5;66;03m# Uniform Monte Carlo integration\u001b[39;00m\n\u001b[0;32m---> 29\u001b[0m     estimate_u, variance_u, standard_error_u \u001b[38;5;241m=\u001b[39m uniform_mc_integrate(f, a, b, N)\n\u001b[1;32m     30\u001b[0m     estimates_u\u001b[38;5;241m.\u001b[39mappend(estimate_u)\n\u001b[1;32m     31\u001b[0m     variances_u\u001b[38;5;241m.\u001b[39mappend(variance_u)\n",
      "\u001b[0;31mValueError\u001b[0m: not enough values to unpack (expected 3, got 2)"
     ]
    }
   ],
   "source": [
    "# Define the function f(x) = e^(-x^2)\n",
    "def f(x):\n",
    "    return np.exp(-x**2)\n",
    "\n",
    "a=-10\n",
    "b=10\n",
    "\n",
    "\n",
    "\n",
    "# Define a range of N values\n",
    "N_values = np.logspace(1, 4, num=50, dtype=int)  # N ranges from 10 to 10,000\n",
    "\n",
    "# Initialize lists to store results\n",
    "estimates_u = []\n",
    "variances_u = []\n",
    "standard_errors_u = []\n",
    "\n",
    "estimates_i = []\n",
    "variances_i = []\n",
    "standard_errors_i = []\n",
    "\n",
    "estimates_h = []\n",
    "variances_h = []\n",
    "standard_errors_h = []\n",
    "\n",
    "# Compute the importance integration for each N\n",
    "for N in N_values:\n",
    "    # Uniform Monte Carlo integration\n",
    "    estimate_u, variance_u, standard_error_u = uniform_mc_integrate(f, a, b, N)\n",
    "    estimates_u.append(estimate_u)\n",
    "    variances_u.append(variance_u)\n",
    "    standard_errors_u.append(standard_error_u)\n",
    "\n",
    "    #Importance sampling integration\n",
    "    estimate_i, variance_i, standard_error_i = importance_integration(f, N)\n",
    "    estimates_i.append(estimate_i)\n",
    "    variances_i.append(variance_i)\n",
    "    standard_errors_i.append(standard_error_i)\n",
    "\n",
    "    # Hybrid importance sampling integration\n",
    "    m_chain = metropolis_python(f, N, rng.uniform(-1, 1), 4, 200, 1)\n",
    "    h_fixed = silverman_bandwidth(m_chain)\n",
    "    kde = adaptive_kde(m_chain, h_fixed, alpha=0.5)\n",
    "\n",
    "    estimate_h, variance_h, standard_error_h = hybrid_importance_sampling(f, m_chain, kde)\n",
    "    estimates_h.append(estimate_h)\n",
    "    variances_h.append(variance_h)\n",
    "    standard_errors_h.append(standard_error_h)\n",
    "\n",
    "\n",
    "\n",
    "\n",
    "\n",
    "# Plot the results\n",
    "plt.figure(figsize=(10, 6))\n",
    "# Analytical result for the integral of f(x) = e^(-x^2) over the real line\n",
    "analytical_result = np.sqrt(np.pi)\n",
    "\n",
    "# Add the analytical result as a horizontal line\n",
    "plt.axhline(y=analytical_result, color='red', linestyle='--', label='Analytical Result')\n",
    "plt.plot(N_values, estimates_u, label='Estimate', marker='o')\n",
    "plt.plot(N_values, estimates_i, label='Importance Integration', marker='s')\n",
    "plt.plot(N_values, estimates_h, label='Hybrid Importance Sampling', marker='^')\n",
    "plt.xscale('log')\n",
    "plt.xlabel('Number of Samples (N)')\n",
    "plt.ylabel('Value')\n",
    "plt.title('Importance Integration Method vs N')\n",
    "plt.legend()\n",
    "plt.grid(True)\n",
    "plt.show()\n",
    "\n",
    "# Compute the reference line 1/sqrt(N_values)\n",
    "reference_line = 1 / np.sqrt(N_values)\n",
    "\n",
    "# Plot the variance and reference line\n",
    "plt.figure(figsize=(10, 6))\n",
    "plt.plot(N_values, variances_u, label='Variance', marker='x')\n",
    "plt.plot(N_values, variances_i, label='Variance IS', marker='x')\n",
    "plt.plot(N_values, variances_h, label='Variance Hybrid', marker='x')\n",
    "plt.plot(N_values, standard_errors_u, label='STDERR')\n",
    "plt.plot(N_values, standard_errors_i, label='STDERR IS')\n",
    "plt.plot(N_values, standard_errors_h, label='STDERR Hybrid')\n",
    "plt.plot(N_values, reference_line, label='1/sqrt(N)', linestyle='--', color='orange')\n",
    "plt.xscale('log')\n",
    "plt.yscale('log')\n",
    "plt.xlabel('Number of Samples (N)')\n",
    "plt.ylabel('Variance')\n",
    "plt.title('Variance vs N with Reference Line')\n",
    "plt.legend()\n",
    "plt.grid(True)\n",
    "plt.show()"
   ]
  }
 ],
 "metadata": {
  "kernelspec": {
   "display_name": "Python (Anaconda + Cython)",
   "language": "python",
   "name": "anaconda-cython"
  },
  "language_info": {
   "codemirror_mode": {
    "name": "ipython",
    "version": 3
   },
   "file_extension": ".py",
   "mimetype": "text/x-python",
   "name": "python",
   "nbconvert_exporter": "python",
   "pygments_lexer": "ipython3",
   "version": "3.9.12"
  }
 },
 "nbformat": 4,
 "nbformat_minor": 2
}
