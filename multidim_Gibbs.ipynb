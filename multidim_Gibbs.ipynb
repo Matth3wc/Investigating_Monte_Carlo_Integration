{
 "cells": [
  {
   "cell_type": "markdown",
   "id": "fd4272eb",
   "metadata": {},
   "source": [
    "# Multidimensional Integral Estimation using Gibbs Sampling with Accept-Reject\n",
    "This notebook demonstrates how to estimate a multidimensional integral using Gibbs sampling with an accept-reject step. Each variable is updated in turn while the others are held constant."
   ]
  },
  {
   "cell_type": "code",
   "execution_count": 1,
   "id": "4e582746",
   "metadata": {},
   "outputs": [],
   "source": [
    "import numpy as np\n",
    "import matplotlib.pyplot as plt\n",
    "from numpy.random import Generator, MT19937\n",
    "import time\n",
    "\n",
    "# Initialize random number generator\n",
    "seed = int(time.time())\n",
    "rng = Generator(MT19937(seed))"
   ]
  },
  {
   "cell_type": "code",
   "execution_count": 2,
   "id": "e0a4a9d9",
   "metadata": {},
   "outputs": [],
   "source": [
    "# User-defined target PDF (multivariate standard normal by default)\n",
    "def target_pdf(x):\n",
    "    x = np.asarray(x)\n",
    "    return np.exp(-0.5 * np.sum(x**2, axis=-1)) / (2 * np.pi) ** (x.shape[-1]/2)\n",
    "\n",
    "def f(x):\n",
    "    x = np.asarray(x)\n",
    "    return np.exp(-np.sum(x**2, axis=-1))"
   ]
  },
  {
   "cell_type": "code",
   "execution_count": 3,
   "id": "3c5e0379",
   "metadata": {},
   "outputs": [],
   "source": [
    "# Gibbs sampler with accept-reject step for D dimensions\n",
    "def gibbs_accept_reject(x0, thinning, burnin, N, step_size, target_pdf):\n",
    "    d = len(x0)\n",
    "    samples = []\n",
    "    x = np.array(x0)\n",
    "    for _ in range(N):\n",
    "        for j in range(d):\n",
    "            x_prop = x.copy()\n",
    "            x_prop[j] = x[j] + rng.uniform(-step_size, step_size)\n",
    "            # Accept-reject step for this variable\n",
    "            acc_ratio = target_pdf(x_prop) / target_pdf(x)\n",
    "            if rng.uniform() < acc_ratio:\n",
    "                x[j] = x_prop[j]\n",
    "        samples.append(x.copy())\n",
    "    # Apply thinning and burn-in\n",
    "    samples = samples[::thinning]\n",
    "    samples = samples[burnin:]\n",
    "    return np.array(samples)"
   ]
  },
  {
   "cell_type": "code",
   "execution_count": 4,
   "id": "93accd11",
   "metadata": {},
   "outputs": [],
   "source": [
    "# Importance sampling integration for multidimensional case\n",
    "def importance_integration(f, target_pdf, m_chain):\n",
    "    weights = f(m_chain) / target_pdf(m_chain)\n",
    "    estimate = np.mean(weights)\n",
    "    return estimate"
   ]
  },
  {
   "cell_type": "code",
   "execution_count": 5,
   "id": "fea9c0f2",
   "metadata": {},
   "outputs": [
    {
     "name": "stdout",
     "output_type": "stream",
     "text": [
      "Estimated integral in 3D using Gibbs sampling: 5.599020638442052\n",
      "Actual value is  5.568327996831708\n"
     ]
    }
   ],
   "source": [
    "# Example usage: choose dimension d\n",
    "D = 3  # Change this for different dimensions\n",
    "N = 100_000\n",
    "x0 = np.zeros(D)\n",
    "thinning = 1\n",
    "burnin = int(0.1 * N)\n",
    "step_size = 2.0\n",
    "\n",
    "m_chain = gibbs_accept_reject(x0, thinning, burnin , N, step_size, target_pdf)\n",
    "Integral = importance_integration(f, target_pdf, m_chain)\n",
    "print(f\"Estimated integral in {D}D using Gibbs sampling: {Integral}\")\n",
    "print(\"Actual value is \", np.pi ** (D/2))"
   ]
  },
  {
   "cell_type": "code",
   "execution_count": 7,
   "id": "d0e75040",
   "metadata": {},
   "outputs": [
    {
     "data": {
      "image/png": "[encoded data removed]",
      "text/plain": [
       "<Figure size 576x360 with 1 Axes>"
      ]
     },
     "metadata": {
      "needs_background": "light"
     },
     "output_type": "display_data"
    }
   ],
   "source": [
    "# Vary the step size, compute the integral multiple times for each, and show deviation from the true value\n",
    "D = 5\n",
    "N = 100_000\n",
    "x0 = np.zeros(D)\n",
    "thinning = 1\n",
    "burnin = int(N * 0.1)\n",
    "actual_value = np.pi ** (D/2)\n",
    "\n",
    "step_sizes = np.linspace(0.5, 5.0, 10)\n",
    "repeats = 10  # Number of runs per step size\n",
    "means = []\n",
    "stds = []\n",
    "\n",
    "for step_size in step_sizes:\n",
    "    estimates = []\n",
    "    for _ in range(repeats):\n",
    "        m_chain = gibbs_accept_reject(x0, thinning, burnin, N, step_size, target_pdf)\n",
    "        estimate = importance_integration(f, target_pdf, m_chain)\n",
    "        estimates.append(estimate)\n",
    "    means.append(np.mean(estimates))\n",
    "    stds.append(np.std(estimates))\n",
    "\n",
    "plt.figure(figsize=(8, 5))\n",
    "plt.errorbar(step_sizes, means, yerr=stds, fmt='o-', capsize=5, label='Estimated Integral')\n",
    "plt.axhline(y=actual_value, color='red', linestyle='--', label=f'True Value (pi^{{3/2}} ≈ {actual_value:.3f})')\n",
    "plt.xlabel('Step Size')\n",
    "plt.ylabel('Integral Estimate')\n",
    "plt.title('Integral Estimate vs Step Size (with Std Dev)')\n",
    "plt.legend()\n",
    "plt.grid(True)\n",
    "plt.show()"
   ]
  },
  {
   "cell_type": "markdown",
   "id": "88674555",
   "metadata": {},
   "source": [
    "You can change the value of `D` in the example usage cell to try different numbers of dimensions. The code will estimate the integral of exp(-sum(x**2)) over R^D using Gibbs sampling with accept-reject and importance sampling."
   ]
  }
 ],
 "metadata": {
  "kernelspec": {
   "display_name": "Python (Anaconda + Cython)",
   "language": "python",
   "name": "cython_env"
  },
  "language_info": {
   "codemirror_mode": {
    "name": "ipython",
    "version": 3
   },
   "file_extension": ".py",
   "mimetype": "text/x-python",
   "name": "python",
   "nbconvert_exporter": "python",
   "pygments_lexer": "ipython3",
   "version": "3.9.12"
  }
 },
 "nbformat": 4,
 "nbformat_minor": 5
}
