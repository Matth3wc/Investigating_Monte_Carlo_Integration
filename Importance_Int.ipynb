{
 "cells": [
  {
   "cell_type": "code",
   "execution_count": 157,
   "id": "586098e5",
   "metadata": {},
   "outputs": [],
   "source": [
    "import numpy as np\n",
    "import matplotlib.pyplot as plt\n",
    "from scipy.stats import beta"
   ]
  },
  {
   "cell_type": "code",
   "execution_count": null,
   "id": "679b52cd",
   "metadata": {},
   "outputs": [
    {
     "name": "stdout",
     "output_type": "stream",
     "text": [
      "3.1746732604845027\n",
      "0.46019276720341074\n"
     ]
    }
   ],
   "source": [
    "# Generate a random variable from a Beta(alpha, beta_param) distribution on [a, b]\n",
    "def rng_beta(alpha, beta_param, a, b):\n",
    "    x = np.random.beta(alpha, beta_param)  \n",
    "    y = a + (b - a) * x\n",
    "    return y\n",
    "    \n",
    "# PDF of a Beta distribution on interval [a, b]\n",
    "def beta_pdf_on_interval(x, alpha, beta_param, a, b):\n",
    "    \"\"\"\n",
    "    Compute the PDF of a Beta(alpha, beta_param) distribution on [a, b] at x.\n",
    "    \"\"\"\n",
    "    # Transform x to [0, 1]\n",
    "    y = (x - a) / (b - a)\n",
    "    pdf = beta.pdf(y, alpha, beta_param) / (b - a)\n",
    "    # Set pdf to 0 outside [a, b]\n",
    "    pdf = np.where((x >= a) & (x <= b), pdf, 0)\n",
    "    return pdf"
   ]
  },
  {
   "cell_type": "code",
   "execution_count": 178,
   "id": "f258f8b3",
   "metadata": {},
   "outputs": [],
   "source": [
    "# Importance sampling integration\n",
    "alpha = 0.5\n",
    "beta_param = 0.5\n",
    "\n",
    "def importance_integration(f, lower_bound, upper_bound, N):\n",
    "    samples = 0\n",
    "    p_samples = 0\n",
    "    for i in range(0,N):\n",
    "        q = rng_beta(alpha, beta_param, lower_bound, upper_bound)\n",
    "        samples += f(q) / beta_pdf_on_interval(q, alpha, beta_param, lower_bound, upper_bound)\n",
    "    return samples / N"
   ]
  },
  {
   "cell_type": "code",
   "execution_count": 186,
   "id": "6ab6e24c",
   "metadata": {},
   "outputs": [
    {
     "name": "stdout",
     "output_type": "stream",
     "text": [
      "63.29877129885786\n",
      "Percentage error is  1.095669845534597 %\n",
      "5.3648048514485485\n",
      "Percentage error is  0.5900909646602892 %\n"
     ]
    }
   ],
   "source": [
    "x3_integral = importance_integration(lambda x: x**3, 0, 4, 10000)\n",
    "x2_integral = importance_integration(lambda x: (x-2)**2, 0, 4, 10000)\n",
    "print(x3_integral)\n",
    "print(\"Percentage error is \", 100 * abs(x3_integral - 64) / 64, \"%\")\n",
    "print(x2_integral)\n",
    "print(\"Percentage error is \", 100 * abs(x2_integral - (16 / 3)) / (16 / 3), \"%\")"
   ]
  }
 ],
 "metadata": {
  "kernelspec": {
   "display_name": "Python 3",
   "language": "python",
   "name": "python3"
  },
  "language_info": {
   "codemirror_mode": {
    "name": "ipython",
    "version": 3
   },
   "file_extension": ".py",
   "mimetype": "text/x-python",
   "name": "python",
   "nbconvert_exporter": "python",
   "pygments_lexer": "ipython3",
   "version": "3.11.5"
  }
 },
 "nbformat": 4,
 "nbformat_minor": 5
}
